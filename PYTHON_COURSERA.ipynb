{
  "nbformat": 4,
  "nbformat_minor": 0,
  "metadata": {
    "colab": {
      "provenance": []
    },
    "kernelspec": {
      "name": "python3",
      "display_name": "Python 3"
    },
    "language_info": {
      "name": "python"
    }
  },
  "cells": [
    {
      "cell_type": "markdown",
      "source": [
        "SAMUEL DEVADASS\n",
        "\n",
        "COURSERA PYTHON PROJECT"
      ],
      "metadata": {
        "id": "3tBmUjumK_12"
      }
    },
    {
      "cell_type": "code",
      "execution_count": 18,
      "metadata": {
        "colab": {
          "base_uri": "https://localhost:8080/"
        },
        "id": "w6y3KbQXKxua",
        "outputId": "05dcf069-f431-4d80-84fc-8e4f3cd2e39d"
      },
      "outputs": [
        {
          "output_type": "stream",
          "name": "stdout",
          "text": [
            "                                Open       High        Low      Close  \\\n",
            "Date                                                                    \n",
            "2020-01-21 00:00:00-05:00  35.349998  36.571999  35.227333  36.480000   \n",
            "2020-01-22 00:00:00-05:00  38.125999  39.633331  37.273335  37.970669   \n",
            "2020-01-23 00:00:00-05:00  37.616669  38.799999  37.040001  38.146667   \n",
            "2020-01-24 00:00:00-05:00  38.042000  38.257332  36.950668  37.654667   \n",
            "2020-01-27 00:00:00-05:00  36.132668  37.629333  35.952000  37.201332   \n",
            "\n",
            "                              Volume  Dividends  Stock Splits  \n",
            "Date                                                           \n",
            "2020-01-21 00:00:00-05:00  267052500        0.0           0.0  \n",
            "2020-01-22 00:00:00-05:00  470535000        0.0           0.0  \n",
            "2020-01-23 00:00:00-05:00  294765000        0.0           0.0  \n",
            "2020-01-24 00:00:00-05:00  215304000        0.0           0.0  \n",
            "2020-01-27 00:00:00-05:00  204121500        0.0           0.0  \n"
          ]
        }
      ],
      "source": [
        "#QUESTION 1\n",
        "import yfinance as yf\n",
        "import pandas as pd\n",
        "\n",
        "tesla = yf.Ticker(\"TSLA\")\n",
        "tesla_stock_data = tesla.history(period=\"5y\")  # 5 years of data\n",
        "\n",
        "tesla_stock_data.to_csv(\"Tesla_Stock_Data.csv\")\n",
        "print(tesla_stock_data.head())\n"
      ]
    },
    {
      "cell_type": "code",
      "source": [
        "#QUESTION 2\n",
        "from bs4 import BeautifulSoup\n",
        "import requests\n",
        "import pandas as pd\n",
        "\n",
        "url = \"https://www.macrotrends.net/stocks/charts/TSLA/tesla/revenue\"\n",
        "headers = {\n",
        "    \"User-Agent\": \"Mozilla/5.0 (Windows NT 10.0; Win64; x64) AppleWebKit/537.36 (KHTML, like Gecko) Chrome/91.0.4472.124 Safari/537.36\"\n",
        "}\n",
        "\n",
        "response = requests.get(url, headers=headers)\n",
        "soup = BeautifulSoup(response.content, \"html.parser\")\n",
        "\n",
        "# Print out the page content for debugging (optional)\n",
        "# print(soup.prettify())\n",
        "\n",
        "# Find all tables on the page\n",
        "tables = soup.find_all(\"table\")\n",
        "if len(tables) > 1:\n",
        "    # Extract the second table\n",
        "    tesla_revenue_table = tables[1]\n",
        "    rows = tesla_revenue_table.find_all(\"tr\")\n",
        "\n",
        "    # Parse rows into a DataFrame\n",
        "    data = []\n",
        "    for row in rows[1:]:  # Skip the header\n",
        "        cols = row.find_all(\"td\")\n",
        "        data.append([col.text.strip() for col in cols])\n",
        "\n",
        "    tesla_revenue = pd.DataFrame(data, columns=[\"Date\", \"Revenue\"])\n",
        "    tesla_revenue.to_csv(\"Tesla_Revenue_Data.csv\")\n",
        "    print(tesla_revenue.tail())\n",
        "else:\n",
        "    print(\"No sufficient tables found on the webpage.\")\n",
        "\n"
      ],
      "metadata": {
        "colab": {
          "base_uri": "https://localhost:8080/"
        },
        "id": "ewMGX54ZK_Is",
        "outputId": "65f6d858-5153-417a-9617-06fd2d7a339e"
      },
      "execution_count": 19,
      "outputs": [
        {
          "output_type": "stream",
          "name": "stdout",
          "text": [
            "          Date Revenue\n",
            "57  2010-06-30     $28\n",
            "58  2010-03-31     $21\n",
            "59  2009-12-31        \n",
            "60  2009-09-30     $46\n",
            "61  2009-06-30     $27\n"
          ]
        }
      ]
    },
    {
      "cell_type": "code",
      "source": [
        "# QUESTION 3\n",
        "gamestop = yf.Ticker(\"GME\")\n",
        "gamestop_stock_data = gamestop.history(period=\"5y\")  # 5 years of data\n",
        "\n",
        "# Save to CSV and display the first few rows\n",
        "gamestop_stock_data.to_csv(\"GameStop_Stock_Data.csv\")\n",
        "print(gamestop_stock_data.head())\n"
      ],
      "metadata": {
        "colab": {
          "base_uri": "https://localhost:8080/"
        },
        "id": "IvHiQ4_DMUTS",
        "outputId": "656f8a0e-d9ba-4087-d721-b8389ccbad62"
      },
      "execution_count": 20,
      "outputs": [
        {
          "output_type": "stream",
          "name": "stdout",
          "text": [
            "                             Open    High     Low   Close    Volume  \\\n",
            "Date                                                                  \n",
            "2020-01-21 00:00:00-05:00  1.1875  1.1875  1.1375  1.1475  14128400   \n",
            "2020-01-22 00:00:00-05:00  1.1375  1.1600  1.1150  1.1400  10510000   \n",
            "2020-01-23 00:00:00-05:00  1.1375  1.1600  1.1150  1.1550   7520800   \n",
            "2020-01-24 00:00:00-05:00  1.1600  1.1600  1.0625  1.0800  16654400   \n",
            "2020-01-27 00:00:00-05:00  1.0500  1.0875  1.0400  1.0700   8490000   \n",
            "\n",
            "                           Dividends  Stock Splits  \n",
            "Date                                                \n",
            "2020-01-21 00:00:00-05:00        0.0           0.0  \n",
            "2020-01-22 00:00:00-05:00        0.0           0.0  \n",
            "2020-01-23 00:00:00-05:00        0.0           0.0  \n",
            "2020-01-24 00:00:00-05:00        0.0           0.0  \n",
            "2020-01-27 00:00:00-05:00        0.0           0.0  \n"
          ]
        }
      ]
    },
    {
      "cell_type": "code",
      "source": [
        "#QUESTION 4\n",
        "from bs4 import BeautifulSoup\n",
        "import requests\n",
        "import pandas as pd\n",
        "\n",
        "url = \"https://www.macrotrends.net/stocks/charts/GME/gamestop/revenue\"\n",
        "headers = {\n",
        "    \"User-Agent\": \"Mozilla/5.0 (Windows NT 10.0; Win64; x64) AppleWebKit/537.36 (KHTML, like Gecko) Chrome/91.0.4472.124 Safari/537.36\"\n",
        "}\n",
        "\n",
        "response = requests.get(url, headers=headers)\n",
        "soup = BeautifulSoup(response.content, \"html.parser\")\n",
        "\n",
        "# Debugging: Print all tables on the page (optional)\n",
        "# tables = soup.find_all(\"table\")\n",
        "# print(f\"Found {len(tables)} tables on the page.\")\n",
        "\n",
        "# Find all tables\n",
        "tables = soup.find_all(\"table\")\n",
        "\n",
        "# Ensure tables exist and extract data\n",
        "if len(tables) > 1:\n",
        "    # Extract the second table\n",
        "    gamestop_revenue_table = tables[1]\n",
        "    rows = gamestop_revenue_table.find_all(\"tr\")\n",
        "\n",
        "    # Parse rows into a DataFrame\n",
        "    data = []\n",
        "    for row in rows[1:]:  # Skip the header\n",
        "        cols = row.find_all(\"td\")\n",
        "        data.append([col.text.strip() for col in cols])\n",
        "\n",
        "    gamestop_revenue = pd.DataFrame(data, columns=[\"Date\", \"Revenue\"])\n",
        "    gamestop_revenue.to_csv(\"GameStop_Revenue_Data.csv\", index=False)\n",
        "    print(gamestop_revenue.tail())\n",
        "else:\n",
        "    print(\"No sufficient tables found on the webpage.\")\n"
      ],
      "metadata": {
        "colab": {
          "base_uri": "https://localhost:8080/"
        },
        "id": "gE53PrVQMbB9",
        "outputId": "00a0816c-8d13-4835-abdc-c564114166a7"
      },
      "execution_count": 21,
      "outputs": [
        {
          "output_type": "stream",
          "name": "stdout",
          "text": [
            "          Date Revenue\n",
            "59  2010-01-31  $3,524\n",
            "60  2009-10-31  $1,835\n",
            "61  2009-07-31  $1,739\n",
            "62  2009-04-30  $1,981\n",
            "63  2009-01-31  $3,492\n"
          ]
        }
      ]
    },
    {
      "cell_type": "code",
      "source": [
        "!pip install dash"
      ],
      "metadata": {
        "colab": {
          "base_uri": "https://localhost:8080/"
        },
        "id": "f3QQTpCYNvyU",
        "outputId": "24fd41f3-83e6-4661-bc6d-0e5d1d888ded"
      },
      "execution_count": 22,
      "outputs": [
        {
          "output_type": "stream",
          "name": "stdout",
          "text": [
            "Requirement already satisfied: dash in /usr/local/lib/python3.11/dist-packages (2.18.2)\n",
            "Requirement already satisfied: Flask<3.1,>=1.0.4 in /usr/local/lib/python3.11/dist-packages (from dash) (3.0.3)\n",
            "Requirement already satisfied: Werkzeug<3.1 in /usr/local/lib/python3.11/dist-packages (from dash) (3.0.6)\n",
            "Requirement already satisfied: plotly>=5.0.0 in /usr/local/lib/python3.11/dist-packages (from dash) (5.24.1)\n",
            "Requirement already satisfied: dash-html-components==2.0.0 in /usr/local/lib/python3.11/dist-packages (from dash) (2.0.0)\n",
            "Requirement already satisfied: dash-core-components==2.0.0 in /usr/local/lib/python3.11/dist-packages (from dash) (2.0.0)\n",
            "Requirement already satisfied: dash-table==5.0.0 in /usr/local/lib/python3.11/dist-packages (from dash) (5.0.0)\n",
            "Requirement already satisfied: importlib-metadata in /usr/local/lib/python3.11/dist-packages (from dash) (8.5.0)\n",
            "Requirement already satisfied: typing-extensions>=4.1.1 in /usr/local/lib/python3.11/dist-packages (from dash) (4.12.2)\n",
            "Requirement already satisfied: requests in /usr/local/lib/python3.11/dist-packages (from dash) (2.32.3)\n",
            "Requirement already satisfied: retrying in /usr/local/lib/python3.11/dist-packages (from dash) (1.3.4)\n",
            "Requirement already satisfied: nest-asyncio in /usr/local/lib/python3.11/dist-packages (from dash) (1.6.0)\n",
            "Requirement already satisfied: setuptools in /usr/local/lib/python3.11/dist-packages (from dash) (75.1.0)\n",
            "Requirement already satisfied: Jinja2>=3.1.2 in /usr/local/lib/python3.11/dist-packages (from Flask<3.1,>=1.0.4->dash) (3.1.5)\n",
            "Requirement already satisfied: itsdangerous>=2.1.2 in /usr/local/lib/python3.11/dist-packages (from Flask<3.1,>=1.0.4->dash) (2.2.0)\n",
            "Requirement already satisfied: click>=8.1.3 in /usr/local/lib/python3.11/dist-packages (from Flask<3.1,>=1.0.4->dash) (8.1.8)\n",
            "Requirement already satisfied: blinker>=1.6.2 in /usr/local/lib/python3.11/dist-packages (from Flask<3.1,>=1.0.4->dash) (1.9.0)\n",
            "Requirement already satisfied: tenacity>=6.2.0 in /usr/local/lib/python3.11/dist-packages (from plotly>=5.0.0->dash) (9.0.0)\n",
            "Requirement already satisfied: packaging in /usr/local/lib/python3.11/dist-packages (from plotly>=5.0.0->dash) (24.2)\n",
            "Requirement already satisfied: MarkupSafe>=2.1.1 in /usr/local/lib/python3.11/dist-packages (from Werkzeug<3.1->dash) (3.0.2)\n",
            "Requirement already satisfied: zipp>=3.20 in /usr/local/lib/python3.11/dist-packages (from importlib-metadata->dash) (3.21.0)\n",
            "Requirement already satisfied: charset-normalizer<4,>=2 in /usr/local/lib/python3.11/dist-packages (from requests->dash) (3.4.1)\n",
            "Requirement already satisfied: idna<4,>=2.5 in /usr/local/lib/python3.11/dist-packages (from requests->dash) (3.10)\n",
            "Requirement already satisfied: urllib3<3,>=1.21.1 in /usr/local/lib/python3.11/dist-packages (from requests->dash) (2.3.0)\n",
            "Requirement already satisfied: certifi>=2017.4.17 in /usr/local/lib/python3.11/dist-packages (from requests->dash) (2024.12.14)\n",
            "Requirement already satisfied: six>=1.7.0 in /usr/local/lib/python3.11/dist-packages (from retrying->dash) (1.17.0)\n"
          ]
        }
      ]
    },
    {
      "cell_type": "code",
      "source": [
        "# QUESTION 5\n",
        "import requests\n",
        "from bs4 import BeautifulSoup\n",
        "\n",
        "# Define headers to mimic a browser\n",
        "headers = {\n",
        "    \"User-Agent\": \"Mozilla/5.0 (Windows NT 10.0; Win64; x64) AppleWebKit/537.36 (KHTML, like Gecko) Chrome/96.0.4664.110 Safari/537.36\"\n",
        "}\n",
        "\n",
        "# Tesla Revenue Extraction\n",
        "tesla_url = \"https://www.macrotrends.net/stocks/charts/TSLA/tesla/revenue\"\n",
        "response = requests.get(tesla_url, headers=headers)\n",
        "soup = BeautifulSoup(response.content, \"html.parser\")\n",
        "\n",
        "# Locate the table and extract data\n",
        "tables = soup.find_all(\"table\")\n",
        "if len(tables) > 0:\n",
        "    revenue_table = tables[0]  # Adjust index based on the correct table\n",
        "    rows = revenue_table.find_all(\"tr\")\n",
        "    tesla_revenue_data = [\n",
        "        [cell.text.strip() for cell in row.find_all([\"th\", \"td\"])]\n",
        "        for row in rows\n",
        "    ]\n",
        "    print(tesla_revenue_data)\n",
        "else:\n",
        "    print(\"No table found on Tesla page.\")\n",
        "from dash import Dash, dcc, html\n",
        "import plotly.graph_objects as go\n",
        "import pandas as pd\n",
        "\n",
        "# Sample Tesla stock data (replace with your actual data)\n",
        "tesla_stock_data = {\n",
        "    \"Date\": [\"2023-01-01\", \"2023-02-01\", \"2023-03-01\", \"2023-04-01\"],\n",
        "    \"Stock Price\": [200, 220, 210, 230],\n",
        "}\n",
        "\n",
        "# Sample Tesla revenue data (replace with your actual data)\n",
        "tesla_revenue_data = {\n",
        "    \"Date\": [\"Q1 2023\", \"Q2 2023\", \"Q3 2023\", \"Q4 2023\"],\n",
        "    \"Revenue\": [18.2, 19.5, 20.8, 21.4],  # in billions\n",
        "}\n",
        "\n",
        "# Convert dictionaries to DataFrames\n",
        "tesla_stock_df = pd.DataFrame(tesla_stock_data)\n",
        "tesla_revenue_df = pd.DataFrame(tesla_revenue_data)\n",
        "\n",
        "# Initialize Dash app\n",
        "app = Dash(__name__)\n",
        "\n",
        "app.layout = html.Div(children=[\n",
        "    html.H1(\"Tesla Stock and Revenue Dashboard\", style={\"textAlign\": \"center\"}),\n",
        "\n",
        "    # Tesla Stock Price Graph\n",
        "    dcc.Graph(\n",
        "        id=\"tesla-stock-price\",\n",
        "        figure={\n",
        "            \"data\": [\n",
        "                go.Scatter(\n",
        "                    x=tesla_stock_df[\"Date\"],\n",
        "                    y=tesla_stock_df[\"Stock Price\"],\n",
        "                    mode=\"lines\",\n",
        "                    name=\"Stock Price\",\n",
        "                    line=dict(color=\"blue\")\n",
        "                )\n",
        "            ],\n",
        "            \"layout\": go.Layout(\n",
        "                title=\"Tesla Stock Price Over Time\",\n",
        "                xaxis_title=\"Date\",\n",
        "                yaxis_title=\"Stock Price (USD)\",\n",
        "                template=\"plotly_dark\"\n",
        "            )\n",
        "        }\n",
        "    ),\n",
        "\n",
        "    # Tesla Revenue Graph\n",
        "    dcc.Graph(\n",
        "        id=\"tesla-revenue\",\n",
        "        figure={\n",
        "            \"data\": [\n",
        "                go.Bar(\n",
        "                    x=tesla_revenue_df[\"Date\"],\n",
        "                    y=tesla_revenue_df[\"Revenue\"],\n",
        "                    name=\"Revenue\",\n",
        "                    marker=dict(color=\"green\")\n",
        "                )\n",
        "            ],\n",
        "            \"layout\": go.Layout(\n",
        "                title=\"Tesla Quarterly Revenue\",\n",
        "                xaxis_title=\"Quarter\",\n",
        "                yaxis_title=\"Revenue (Billions USD)\",\n",
        "                template=\"plotly_dark\"\n",
        "            )\n",
        "        }\n",
        "    )\n",
        "])\n",
        "\n",
        "if __name__ == \"__main__\":\n",
        "    app.run_server(debug=True, use_reloader=False)\n"
      ],
      "metadata": {
        "colab": {
          "base_uri": "https://localhost:8080/",
          "height": 709
        },
        "id": "2_hBMsMXNaho",
        "outputId": "31538343-967d-4f8f-8138-f638ab980137"
      },
      "execution_count": 23,
      "outputs": [
        {
          "output_type": "stream",
          "name": "stdout",
          "text": [
            "[['Tesla Annual Revenue(Millions of US $)'], ['2023', '$96,773'], ['2022', '$81,462'], ['2021', '$53,823'], ['2020', '$31,536'], ['2019', '$24,578'], ['2018', '$21,461'], ['2017', '$11,759'], ['2016', '$7,000'], ['2015', '$4,046'], ['2014', '$3,198'], ['2013', '$2,013'], ['2012', '$413'], ['2011', '$204'], ['2010', '$117'], ['2009', '$112']]\n"
          ]
        },
        {
          "output_type": "display_data",
          "data": {
            "text/plain": [
              "<IPython.core.display.Javascript object>"
            ],
            "application/javascript": [
              "(async (port, path, width, height, cache, element) => {\n",
              "    if (!google.colab.kernel.accessAllowed && !cache) {\n",
              "      return;\n",
              "    }\n",
              "    element.appendChild(document.createTextNode(''));\n",
              "    const url = await google.colab.kernel.proxyPort(port, {cache});\n",
              "    const iframe = document.createElement('iframe');\n",
              "    iframe.src = new URL(path, url).toString();\n",
              "    iframe.height = height;\n",
              "    iframe.width = width;\n",
              "    iframe.style.border = 0;\n",
              "    iframe.allow = [\n",
              "        'accelerometer',\n",
              "        'autoplay',\n",
              "        'camera',\n",
              "        'clipboard-read',\n",
              "        'clipboard-write',\n",
              "        'gyroscope',\n",
              "        'magnetometer',\n",
              "        'microphone',\n",
              "        'serial',\n",
              "        'usb',\n",
              "        'xr-spatial-tracking',\n",
              "    ].join('; ');\n",
              "    element.appendChild(iframe);\n",
              "  })(8050, \"/\", \"100%\", 650, false, window.element)"
            ]
          },
          "metadata": {}
        }
      ]
    },
    {
      "cell_type": "code",
      "source": [
        "# QUESTION 6\n",
        "import requests\n",
        "from bs4 import BeautifulSoup\n",
        "\n",
        "# Define headers to mimic a browser\n",
        "headers = {\n",
        "    \"User-Agent\": \"Mozilla/5.0 (Windows NT 10.0; Win64; x64) AppleWebKit/537.36 (KHTML, like Gecko) Chrome/96.0.4664.110 Safari/537.36\"\n",
        "}\n",
        "\n",
        "# GameStop Revenue Extraction\n",
        "gamestop_url = \"https://www.macrotrends.net/stocks/charts/GME/gamestop/revenue\"\n",
        "response = requests.get(gamestop_url, headers=headers)\n",
        "soup = BeautifulSoup(response.content, \"html.parser\")\n",
        "\n",
        "# Locate the table and extract data\n",
        "tables = soup.find_all(\"table\")\n",
        "if len(tables) > 0:\n",
        "    revenue_table = tables[0]  # Adjust index based on the correct table\n",
        "    rows = revenue_table.find_all(\"tr\")\n",
        "    gamestop_revenue_data = [\n",
        "        [cell.text.strip() for cell in row.find_all([\"th\", \"td\"])]\n",
        "        for row in rows\n",
        "    ]\n",
        "    print(gamestop_revenue_data)\n",
        "else:\n",
        "    print(\"No table found on GameStop page.\")\n",
        "from dash import Dash, dcc, html\n",
        "import plotly.graph_objects as go\n",
        "import pandas as pd\n",
        "\n",
        "# Sample GameStop stock data (replace with your actual data)\n",
        "gamestop_stock_data = {\n",
        "    \"Date\": [\"2023-01-01\", \"2023-02-01\", \"2023-03-01\", \"2023-04-01\"],\n",
        "    \"Stock Price\": [20, 22, 21, 23],\n",
        "}\n",
        "\n",
        "# Sample GameStop revenue data (replace with your actual data)\n",
        "gamestop_revenue_data = {\n",
        "    \"Date\": [\"Q1 2023\", \"Q2 2023\", \"Q3 2023\", \"Q4 2023\"],\n",
        "    \"Revenue\": [1.2, 1.5, 1.8, 1.4],  # in billions\n",
        "}\n",
        "\n",
        "# Convert dictionaries to DataFrames\n",
        "gamestop_stock_df = pd.DataFrame(gamestop_stock_data)\n",
        "gamestop_revenue_df = pd.DataFrame(gamestop_revenue_data)\n",
        "\n",
        "# Initialize Dash app\n",
        "app = Dash(__name__)\n",
        "\n",
        "app.layout = html.Div(children=[\n",
        "    html.H1(\"GameStop Stock and Revenue Dashboard\", style={\"textAlign\": \"center\"}),\n",
        "\n",
        "    # GameStop Stock Price Graph\n",
        "    dcc.Graph(\n",
        "        id=\"gamestop-stock-price\",\n",
        "        figure={\n",
        "            \"data\": [\n",
        "                go.Scatter(\n",
        "                    x=gamestop_stock_df[\"Date\"],\n",
        "                    y=gamestop_stock_df[\"Stock Price\"],\n",
        "                    mode=\"lines\",\n",
        "                    name=\"Stock Price\",\n",
        "                    line=dict(color=\"red\")\n",
        "                )\n",
        "            ],\n",
        "            \"layout\": go.Layout(\n",
        "                title=\"GameStop Stock Price Over Time\",\n",
        "                xaxis_title=\"Date\",\n",
        "                yaxis_title=\"Stock Price (USD)\",\n",
        "                template=\"plotly_dark\"\n",
        "            )\n",
        "        }\n",
        "    ),\n",
        "\n",
        "    # GameStop Revenue Graph\n",
        "    dcc.Graph(\n",
        "        id=\"gamestop-revenue\",\n",
        "        figure={\n",
        "            \"data\": [\n",
        "                go.Bar(\n",
        "                    x=gamestop_revenue_df[\"Date\"],\n",
        "                    y=gamestop_revenue_df[\"Revenue\"],\n",
        "                    name=\"Revenue\",\n",
        "                    marker=dict(color=\"purple\")\n",
        "                )\n",
        "            ],\n",
        "            \"layout\": go.Layout(\n",
        "                title=\"GameStop Quarterly Revenue\",\n",
        "                xaxis_title=\"Quarter\",\n",
        "                yaxis_title=\"Revenue (Billions USD)\",\n",
        "                template=\"plotly_dark\"\n",
        "            )\n",
        "        }\n",
        "    )\n",
        "])\n",
        "\n",
        "if __name__ == \"__main__\":\n",
        "    app.run_server(debug=True, use_reloader=False)\n"
      ],
      "metadata": {
        "colab": {
          "base_uri": "https://localhost:8080/",
          "height": 709
        },
        "id": "f5pean9QQz9n",
        "outputId": "f4022700-f8ef-48ce-e1ff-ff41a9734996"
      },
      "execution_count": 24,
      "outputs": [
        {
          "output_type": "stream",
          "name": "stdout",
          "text": [
            "[['GameStop Annual Revenue(Millions of US $)'], ['2024', '$5,273'], ['2023', '$5,927'], ['2022', '$6,011'], ['2021', '$5,090'], ['2020', '$6,466'], ['2019', '$8,285'], ['2018', '$8,547'], ['2017', '$7,965'], ['2016', '$9,364'], ['2015', '$9,296'], ['2014', '$9,040'], ['2013', '$8,887'], ['2012', '$9,551'], ['2011', '$9,474'], ['2010', '$9,078'], ['2009', '$8,806']]\n"
          ]
        },
        {
          "output_type": "display_data",
          "data": {
            "text/plain": [
              "<IPython.core.display.Javascript object>"
            ],
            "application/javascript": [
              "(async (port, path, width, height, cache, element) => {\n",
              "    if (!google.colab.kernel.accessAllowed && !cache) {\n",
              "      return;\n",
              "    }\n",
              "    element.appendChild(document.createTextNode(''));\n",
              "    const url = await google.colab.kernel.proxyPort(port, {cache});\n",
              "    const iframe = document.createElement('iframe');\n",
              "    iframe.src = new URL(path, url).toString();\n",
              "    iframe.height = height;\n",
              "    iframe.width = width;\n",
              "    iframe.style.border = 0;\n",
              "    iframe.allow = [\n",
              "        'accelerometer',\n",
              "        'autoplay',\n",
              "        'camera',\n",
              "        'clipboard-read',\n",
              "        'clipboard-write',\n",
              "        'gyroscope',\n",
              "        'magnetometer',\n",
              "        'microphone',\n",
              "        'serial',\n",
              "        'usb',\n",
              "        'xr-spatial-tracking',\n",
              "    ].join('; ');\n",
              "    element.appendChild(iframe);\n",
              "  })(8050, \"/\", \"100%\", 650, false, window.element)"
            ]
          },
          "metadata": {}
        }
      ]
    },
    {
      "cell_type": "code",
      "source": [],
      "metadata": {
        "id": "mPyshuG5PNYR"
      },
      "execution_count": 25,
      "outputs": []
    },
    {
      "cell_type": "code",
      "source": [],
      "metadata": {
        "id": "Cb4T_fqmPUkb"
      },
      "execution_count": null,
      "outputs": []
    }
  ]
}